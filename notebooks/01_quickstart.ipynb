{
 "cells": [
  {
   "cell_type": "markdown",
   "id": "f97d84c4",
   "metadata": {},
   "source": [
    "### 1) Setup & imports"
   ]
  },
  {
   "cell_type": "code",
   "execution_count": null,
   "id": "f73156de",
   "metadata": {},
   "outputs": [],
   "source": [
    "%pip install -r requirements.txt"
   ]
  },
  {
   "cell_type": "code",
   "execution_count": null,
   "id": "8e36b54a",
   "metadata": {},
   "outputs": [],
   "source": [
    "# from pathlib import Path\n",
    "# from importlib import reload\n",
    "\n",
    "# # If running in notebook, make project path importable\n",
    "# import sys\n",
    "# proj = Path.cwd().parent  # adjust if needed\n",
    "# if str(proj) not in sys.path:\n",
    "#     sys.path.append(str(proj))\n",
    "\n",
    "# from src import constants as C\n",
    "# from src import train as T\n",
    "# from src import infer as I\n",
    "# from src import model as M\n",
    "# reload(C); reload(T); reload(I); reload(M);\n",
    "\n",
    "# Download a set of LR-HR images for training\n",
    "%time python -m src.pipelines.get_image_pairs -n 500"
   ]
  },
  {
   "cell_type": "markdown",
   "id": "584fe3a5",
   "metadata": {},
   "source": [
    "### 2) (Optional) Download a generic ESRGAN x4 pretrained weight (RRDBNet)"
   ]
  },
  {
   "cell_type": "code",
   "execution_count": null,
   "id": "9196dacd",
   "metadata": {},
   "outputs": [],
   "source": [
    "# # Many public weights exist. Example: you can add your own path to a .pth here for finetuning/inference.\n",
    "# WEIGHT_PATH = None  # '/content/drive/MyDrive/weights/ESRGAN_x4.pth'"
   ]
  },
  {
   "cell_type": "markdown",
   "id": "71a2a008",
   "metadata": {},
   "source": [
    "### 3) Train / Finetune (EDSR x4)"
   ]
  },
  {
   "cell_type": "code",
   "execution_count": null,
   "id": "e24c7804",
   "metadata": {},
   "outputs": [],
   "source": [
    "# Ensure you have paired LR/HR images (same filenames) under data/LR and data/HR.\n",
    "# Training will crop random aligned patches from HR and downsample to create LR (robust even if LR not perfectly registered).\n",
    "# You can also use your own LR images for training by changing it on the `dataset.py` file\n",
    "%time python -m src.train"
   ]
  },
  {
   "cell_type": "markdown",
   "id": "c0aaa2f0",
   "metadata": {},
   "source": [
    "### 4) Inference on a dir of LR images"
   ]
  },
  {
   "cell_type": "code",
   "execution_count": null,
   "id": "eeab3e22",
   "metadata": {},
   "outputs": [],
   "source": [
    "# from pathlib import Path\n",
    "# sample_imgs = list((C.LR_DIR).glob('*.png'))[:3]\n",
    "# I.run_inference(sample_imgs, model_name=C.MODEL_NAME, scale=C.SCALE, ckpt_path=str((C.CKPT_DIR / f'best_{C.MODEL_NAME}_x{C.SCALE}.pth')) if (C.CKPT_DIR / f'best_{C.MODEL_NAME}_x{C.SCALE}.pth').exists() else None, progressive_to=8)\n",
    "\n",
    "#   python -m src.infer data/LR/36.22243_-5.84406_test.png data/LR/36.31215_-5.93888_test.png --model edsr --scale 4 --weigths best_edsr_x4.pth --progressive-to 8\n",
    "#   python -m src.infer data/LR/*.png --model edsr --scale 4 --weigths best_edsr_x4.pth\n",
    "%time python -m src.infer data/LR --model edsr --scale 4 --weigths best_edsr_x4.pth --progressive-to 8\n"
   ]
  },
  {
   "cell_type": "markdown",
   "id": "45b83869",
   "metadata": {},
   "source": [
    "### 5) Metrics on held-out pairs (quick)"
   ]
  },
  {
   "cell_type": "code",
   "execution_count": null,
   "id": "a1789c8b",
   "metadata": {},
   "outputs": [],
   "source": [
    "# import numpy as np\n",
    "# from src.dataset import PairedImageDataset\n",
    "# from src.utils import psnr, ssim\n",
    "# import torch\n",
    "\n",
    "# val_ds = PairedImageDataset(C.LR_DIR, C.HR_DIR, scale=C.SCALE, augment=False)\n",
    "\n",
    "# import random\n",
    "# idxs = random.sample(range(len(val_ds)), min(10, len(val_ds)))\n",
    "\n",
    "# import torchvision.transforms.functional as TF\n",
    "# from src.model import build_model, ModelConfig\n",
    "# model = build_model(ModelConfig(name=C.MODEL_NAME, scale=C.SCALE, pretrained=str(C.CKPT_DIR / f'best_{C.MODEL_NAME}_x{C.SCALE}.pth') if (C.CKPT_DIR / f'best_{C.MODEL_NAME}_x{C.SCALE}.pth').exists() else None)).eval()\n",
    "# model = model.cuda() if torch.cuda.is_available() else model\n",
    "\n",
    "# scores = []\n",
    "# for i in idxs:\n",
    "#     batch = val_ds[i]\n",
    "#     lr = batch['lr'].unsqueeze(0)\n",
    "#     hr = batch['hr'].unsqueeze(0)\n",
    "#     if torch.cuda.is_available():\n",
    "#         lr, hr = lr.cuda(), hr.cuda()\n",
    "#     with torch.no_grad():\n",
    "#         sr = model(lr).clamp(0,1)\n",
    "#     sr_np = (sr[0].permute(1,2,0).cpu().numpy()*255).astype('uint8')"
   ]
  },
  {
   "cell_type": "code",
   "execution_count": null,
   "id": "e260a87e",
   "metadata": {
    "vscode": {
     "languageId": "plaintext"
    }
   },
   "outputs": [],
   "source": []
  },
  {
   "cell_type": "markdown",
   "id": "13035b0c",
   "metadata": {},
   "source": []
  }
 ],
 "metadata": {
  "language_info": {
   "name": "python"
  }
 },
 "nbformat": 4,
 "nbformat_minor": 5
}
